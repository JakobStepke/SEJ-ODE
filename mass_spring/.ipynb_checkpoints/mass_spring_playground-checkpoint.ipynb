{
 "cells": [
  {
   "cell_type": "code",
   "execution_count": null,
   "id": "a07c6833-e0cb-4f74-a4a5-80e4ae37e5a4",
   "metadata": {},
   "outputs": [],
   "source": [
    "import sys\n",
    "sys.path.append('/Users/joachim/texjs/lva/ws2324/ScientificComputing/experiments/ASC-ODE/build/mass_spring')\n",
    "from mass_spring import *"
   ]
  },
  {
   "cell_type": "code",
   "execution_count": null,
   "id": "dab700dd-a27a-4dc8-890d-31e6fd576bd7",
   "metadata": {},
   "outputs": [],
   "source": [
    "mss = MassSpringSystem2d()\n",
    "mss.Add (Mass(1, (1,0)))"
   ]
  },
  {
   "cell_type": "code",
   "execution_count": null,
   "id": "6e8713ce-ae2f-465f-be80-c53883d459b2",
   "metadata": {},
   "outputs": [],
   "source": [
    "from pythreejs import *"
   ]
  },
  {
   "cell_type": "code",
   "execution_count": null,
   "id": "0f4fe242-3bae-475e-8267-5f69c6850b9c",
   "metadata": {},
   "outputs": [],
   "source": [
    "sphere = Mesh(\n",
    "    SphereBufferGeometry(1, 32, 16),\n",
    "    MeshStandardMaterial(color='red')\n",
    ")\n",
    "\n",
    "cube = Mesh(\n",
    "    BoxBufferGeometry(1, 1, 1),\n",
    "    MeshPhysicalMaterial(color='green'),\n",
    "    position=[2, 0, 0]\n",
    ")\n",
    "\n",
    "cyl = Mesh(\n",
    "    CylinderGeometry(0.5, 0.5, 2, 16),\n",
    "    MeshPhysicalMaterial(color='blue'),\n",
    "    position=[0, 2, 0]\n",
    ")\n",
    "\n",
    "line1 = Line(\n",
    "    Geometry( vertices= [ [0,0,0], [2,0,4] ]),\n",
    "    LineBasicMaterial(color='blue', linewidth=100.999),\n",
    "                )\n",
    "\n",
    "\n",
    "\n",
    "g2 = LineSegmentsGeometry(\n",
    "    positions=[\n",
    "        [[0, 0, 0], [1, 1, 1]],\n",
    "        [[2, 2, 2], [4, 4, 0]]\n",
    "    ],\n",
    ")\n",
    "m2 = LineMaterial(linewidth=10, color='cyan')\n",
    "line2 = LineSegments2(g2, m2)\n",
    "\n",
    "\n",
    "\n",
    "g3 = LineSegmentsGeometry(\n",
    "    positions=[\n",
    "        [[0, 0, 0], [5, 0, 0]],\n",
    "    ],\n",
    ")\n",
    "m3 = LineMaterial(linewidth=10, color='blue')\n",
    "line3 = LineSegments2(g3, m3)\n",
    "\n",
    "\n",
    "objects = [sphere, cube, cyl, line1, line2] # , line3]"
   ]
  },
  {
   "cell_type": "code",
   "execution_count": null,
   "id": "f1b958f0-4bcc-4c1d-b8fa-07d03a6c6c11",
   "metadata": {},
   "outputs": [],
   "source": [
    "class CustomSinCurve(Curve):\n",
    "\n",
    "\tdef __init__ (self, scale = 1 ):\n",
    "\t\tsuper();\n",
    "\t\tself.scale = scale;\n",
    "\n",
    "\tdef getPoint( t, optionalTarget = Vector3()):\n",
    "\n",
    "\t\ttx = t * 3 - 1.5;\n",
    "\t\tty = math.sin( 2 * Math.PI * t );\n",
    "\t\ttz = 0;\n",
    "\n",
    "\t\treturn optionalTarget.set( tx, ty, tz ).multiplyScalar( this.scale );\n",
    "\t\n",
    "\n",
    "path = CustomSinCurve( 10 )\n",
    "# geometry = TubeGeometry( path, 20, 2, 8, False )\n",
    "# material = MeshBasicMaterial( color = 'green' )\n",
    "# mesh = Mesh( geometry, material );\n",
    "# scene.add( mesh )"
   ]
  },
  {
   "cell_type": "code",
   "execution_count": null,
   "id": "5b08fa7a-eb28-440f-b059-f3a3205fb7a1",
   "metadata": {},
   "outputs": [],
   "source": [
    "view_width = 600\n",
    "view_height = 400"
   ]
  },
  {
   "cell_type": "code",
   "execution_count": null,
   "id": "0a9699ff-d76c-4b1e-8cfc-cec63302daf9",
   "metadata": {},
   "outputs": [],
   "source": [
    "camera = PerspectiveCamera( position=[10, 6, 10], aspect=view_width/view_height)\n",
    "key_light = DirectionalLight(position=[0, 10, 10])\n",
    "ambient_light = AmbientLight()"
   ]
  },
  {
   "cell_type": "code",
   "execution_count": null,
   "id": "3649562d-059f-48c5-995a-4f59ab5c54c3",
   "metadata": {},
   "outputs": [],
   "source": [
    "scene = Scene(children=[*objects, camera, key_light, ambient_light])\n",
    "controller = OrbitControls(controlling=camera)\n",
    "renderer = Renderer(camera=camera, scene=scene, controls=[controller],\n",
    "                    width=view_width, height=view_height)\n",
    "\n",
    "renderer"
   ]
  },
  {
   "cell_type": "code",
   "execution_count": null,
   "id": "fa9d5957-a3ec-465b-84cd-497ad58766c6",
   "metadata": {},
   "outputs": [],
   "source": [
    "# line2.geometry = line3.geometry\n",
    "g2.positions[0][0] = [8,-5,1]\n",
    "print (g2.positions)\n",
    "line2.geometry= LineSegmentsGeometry( positions=[[[2,2,2],[0,4,4]]] )"
   ]
  },
  {
   "cell_type": "code",
   "execution_count": null,
   "id": "44d5fe53-cc35-419f-bf88-0bdba2b3c1c1",
   "metadata": {},
   "outputs": [],
   "source": [
    "# print (line2.geometry)\n",
    "help (line2.geometry)"
   ]
  },
  {
   "cell_type": "code",
   "execution_count": null,
   "id": "21a1041b-585a-496a-a2e8-8d94e9d7cd41",
   "metadata": {},
   "outputs": [],
   "source": [
    "cyl.position = (0,3,0)\n",
    "sphere.position = (0,0,0)"
   ]
  },
  {
   "cell_type": "code",
   "execution_count": null,
   "id": "aa13c831-3c2d-4370-8835-c6464cbbcb08",
   "metadata": {},
   "outputs": [],
   "source": [
    "line1.geometry.vertices = [(0, 0, 0), (4, 0, 6)]"
   ]
  },
  {
   "cell_type": "code",
   "execution_count": null,
   "id": "86202812-7875-4edd-a9ca-a55e6c4dfe85",
   "metadata": {},
   "outputs": [],
   "source": [
    "cyl.position = (0,3,0)\n",
    "cyl.geometry.height=0.5\n",
    "cyl.rotateZ(math.pi/2)"
   ]
  },
  {
   "cell_type": "code",
   "execution_count": null,
   "id": "7da8e09a-1b8f-4c78-bfbe-14d7343b527a",
   "metadata": {},
   "outputs": [],
   "source": [
    "mat = cyl.normalMatrix\n",
    "print (mat)\n",
    "mat2 = tuple( (1.,0.,0., 0.,1.,0., 0.,0.,1.) )\n",
    "print (mat2)"
   ]
  },
  {
   "cell_type": "code",
   "execution_count": null,
   "id": "633a1b1a-2af8-4282-8e1e-5dbc03e08e65",
   "metadata": {},
   "outputs": [],
   "source": [
    "cyl.normalMatrix = mat2\n",
    "cyl.setRotationFromMatrix(mat2)"
   ]
  },
  {
   "cell_type": "code",
   "execution_count": null,
   "id": "55dba061-ce3d-4bb0-88c3-42aa4ffda288",
   "metadata": {},
   "outputs": [],
   "source": [
    "v = Vector3( (1, 2,3) )\n",
    "print (v)\n",
    "v2 = Vector3 ( (4,5,6) )\n",
    "ah = ArrowHelper(orign=(1,2,3), dir=(0,0,1), length=5, width=0.02, color='red')\n",
    "cyl.add (ah)\n",
    "objects.append (ah)"
   ]
  },
  {
   "cell_type": "code",
   "execution_count": null,
   "id": "18092479-bbf5-4211-bdfa-e04ff78c8607",
   "metadata": {},
   "outputs": [],
   "source": [
    "help (ArrowHelper)"
   ]
  },
  {
   "cell_type": "code",
   "execution_count": null,
   "id": "303408dc-e575-4d1c-9661-f5ecbb483d4d",
   "metadata": {},
   "outputs": [],
   "source": []
  },
  {
   "cell_type": "code",
   "execution_count": null,
   "id": "4e0ed416",
   "metadata": {},
   "outputs": [],
   "source": [
    "help (BaseBufferGeometry)"
   ]
  },
  {
   "cell_type": "code",
   "execution_count": null,
   "id": "9d614781-89e7-49f0-b101-d4728c7d51fa",
   "metadata": {},
   "outputs": [],
   "source": []
  }
 ],
 "metadata": {
  "kernelspec": {
   "display_name": "Python 3 (ipykernel)",
   "language": "python",
   "name": "python3"
  },
  "language_info": {
   "codemirror_mode": {
    "name": "ipython",
    "version": 3
   },
   "file_extension": ".py",
   "mimetype": "text/x-python",
   "name": "python",
   "nbconvert_exporter": "python",
   "pygments_lexer": "ipython3",
   "version": "3.12.0"
  }
 },
 "nbformat": 4,
 "nbformat_minor": 5
}
